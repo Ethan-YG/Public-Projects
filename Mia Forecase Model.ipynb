{
 "cells": [
  {
   "cell_type": "markdown",
   "source": [
    "**Import Packages**"
   ],
   "metadata": {
    "collapsed": false
   }
  },
  {
   "cell_type": "markdown",
   "source": [
    "import numpy as np\n",
    "import pandas as pd"
   ],
   "metadata": {
    "collapsed": false
   }
  },
  {
   "cell_type": "code",
   "execution_count": 110,
   "outputs": [],
   "source": [
    "pd.set_option('display.float_format', lambda x : '%.2f' % x)"
   ],
   "metadata": {
    "collapsed": false,
    "ExecuteTime": {
     "end_time": "2024-07-30T23:52:24.950186600Z",
     "start_time": "2024-07-30T23:52:24.905119700Z"
    }
   }
  },
  {
   "cell_type": "markdown",
   "source": [
    "**Assumptions**"
   ],
   "metadata": {
    "collapsed": false
   }
  },
  {
   "cell_type": "code",
   "execution_count": 111,
   "outputs": [],
   "source": [
    "current_year = '2024'\n",
    "current_quarter = 'Q1'"
   ],
   "metadata": {
    "collapsed": false,
    "ExecuteTime": {
     "end_time": "2024-07-30T23:52:25.022784300Z",
     "start_time": "2024-07-30T23:52:24.919711400Z"
    }
   }
  },
  {
   "cell_type": "markdown",
   "source": [
    "**Import Data**"
   ],
   "metadata": {
    "collapsed": false
   }
  },
  {
   "cell_type": "code",
   "execution_count": 144,
   "outputs": [
    {
     "data": {
      "text/plain": "   Year  Quarter Account Category Number    Account Description  \\\n0  2024        1              Legal Fees             Legal Fees   \n1  2024        1              Legal Fees  Legal - CCG Corporate   \n2  2024        1              Legal Fees  Legal - CCG Corporate   \n3  2024        1              Legal Fees  Legal - CCG Corporate   \n4  2024        1              Legal Fees             Legal fees   \n\n             Dept Vendor  USD Net Change  \n0  Administration    EEE         5113.64  \n1           Legal      E          -97.22  \n2           Legal      E            5.50  \n3           Legal    EEE       -56250.00  \n4             CLO    EEE           54.61  ",
      "text/html": "<div>\n<style scoped>\n    .dataframe tbody tr th:only-of-type {\n        vertical-align: middle;\n    }\n\n    .dataframe tbody tr th {\n        vertical-align: top;\n    }\n\n    .dataframe thead th {\n        text-align: right;\n    }\n</style>\n<table border=\"1\" class=\"dataframe\">\n  <thead>\n    <tr style=\"text-align: right;\">\n      <th></th>\n      <th>Year</th>\n      <th>Quarter</th>\n      <th>Account Category Number</th>\n      <th>Account Description</th>\n      <th>Dept</th>\n      <th>Vendor</th>\n      <th>USD Net Change</th>\n    </tr>\n  </thead>\n  <tbody>\n    <tr>\n      <th>0</th>\n      <td>2024</td>\n      <td>1</td>\n      <td>Legal Fees</td>\n      <td>Legal Fees</td>\n      <td>Administration</td>\n      <td>EEE</td>\n      <td>5113.64</td>\n    </tr>\n    <tr>\n      <th>1</th>\n      <td>2024</td>\n      <td>1</td>\n      <td>Legal Fees</td>\n      <td>Legal - CCG Corporate</td>\n      <td>Legal</td>\n      <td>E</td>\n      <td>-97.22</td>\n    </tr>\n    <tr>\n      <th>2</th>\n      <td>2024</td>\n      <td>1</td>\n      <td>Legal Fees</td>\n      <td>Legal - CCG Corporate</td>\n      <td>Legal</td>\n      <td>E</td>\n      <td>5.50</td>\n    </tr>\n    <tr>\n      <th>3</th>\n      <td>2024</td>\n      <td>1</td>\n      <td>Legal Fees</td>\n      <td>Legal - CCG Corporate</td>\n      <td>Legal</td>\n      <td>EEE</td>\n      <td>-56250.00</td>\n    </tr>\n    <tr>\n      <th>4</th>\n      <td>2024</td>\n      <td>1</td>\n      <td>Legal Fees</td>\n      <td>Legal fees</td>\n      <td>CLO</td>\n      <td>EEE</td>\n      <td>54.61</td>\n    </tr>\n  </tbody>\n</table>\n</div>"
     },
     "execution_count": 144,
     "metadata": {},
     "output_type": "execute_result"
    }
   ],
   "source": [
    "df = pd.read_excel(r'C:\\Users\\ygu\\Documents\\Mia Sample File.xlsx', 'Info')\n",
    "quarter_dict = {'Q1': 1, 'Q2': 2, 'Q3': 3, 'Q4': 4}\n",
    "df['Quarter'] = df['Quarter'].map(quarter_dict)\n",
    "df.sort_values(by=['Year','Quarter'])\n",
    "df.set_index(['Year','Quarter'])\n",
    "df.head()"
   ],
   "metadata": {
    "collapsed": false,
    "ExecuteTime": {
     "end_time": "2024-07-31T00:05:28.153429200Z",
     "start_time": "2024-07-31T00:05:27.396399Z"
    }
   }
  },
  {
   "cell_type": "code",
   "execution_count": 122,
   "outputs": [
    {
     "data": {
      "text/plain": "         Year  USD Net Change\ncount 8982.00         8982.00\nmean  2024.00        -1197.02\nstd      0.00        69616.02\nmin   2024.00     -6473929.14\n25%   2024.00            0.71\n50%   2024.00            3.42\n75%   2024.00           14.69\nmax   2024.00       588539.01",
      "text/html": "<div>\n<style scoped>\n    .dataframe tbody tr th:only-of-type {\n        vertical-align: middle;\n    }\n\n    .dataframe tbody tr th {\n        vertical-align: top;\n    }\n\n    .dataframe thead th {\n        text-align: right;\n    }\n</style>\n<table border=\"1\" class=\"dataframe\">\n  <thead>\n    <tr style=\"text-align: right;\">\n      <th></th>\n      <th>Year</th>\n      <th>USD Net Change</th>\n    </tr>\n  </thead>\n  <tbody>\n    <tr>\n      <th>count</th>\n      <td>8982.00</td>\n      <td>8982.00</td>\n    </tr>\n    <tr>\n      <th>mean</th>\n      <td>2024.00</td>\n      <td>-1197.02</td>\n    </tr>\n    <tr>\n      <th>std</th>\n      <td>0.00</td>\n      <td>69616.02</td>\n    </tr>\n    <tr>\n      <th>min</th>\n      <td>2024.00</td>\n      <td>-6473929.14</td>\n    </tr>\n    <tr>\n      <th>25%</th>\n      <td>2024.00</td>\n      <td>0.71</td>\n    </tr>\n    <tr>\n      <th>50%</th>\n      <td>2024.00</td>\n      <td>3.42</td>\n    </tr>\n    <tr>\n      <th>75%</th>\n      <td>2024.00</td>\n      <td>14.69</td>\n    </tr>\n    <tr>\n      <th>max</th>\n      <td>2024.00</td>\n      <td>588539.01</td>\n    </tr>\n  </tbody>\n</table>\n</div>"
     },
     "execution_count": 122,
     "metadata": {},
     "output_type": "execute_result"
    }
   ],
   "source": [
    "# df.index\n",
    "df.describe()"
   ],
   "metadata": {
    "collapsed": false,
    "ExecuteTime": {
     "end_time": "2024-07-30T23:53:49.876911300Z",
     "start_time": "2024-07-30T23:53:49.829674500Z"
    }
   }
  },
  {
   "cell_type": "markdown",
   "source": [
    "**Data Anlytics**"
   ],
   "metadata": {
    "collapsed": false
   }
  },
  {
   "cell_type": "code",
   "execution_count": 145,
   "outputs": [
    {
     "data": {
      "text/plain": "Year  Quarter  Dept            Vendor  Account Description                       \n2024  1        Administration  A       Parking/validation/Public Transit/FSA         58.84\n                                       Software License/Subscription                  0.64\n                               AA      Software License/Subscription                  2.30\n                                       Supplies - dining/kitchen                     14.14\n                                       Supplies - office                            -18.10\n                                                                                     ...  \n      2        Trading (NY)    I       Meals - Employee                               5.07\n                                       Rent - office                                428.21\n                                       Repairs, maintenance, utilities - building    40.23\n                                       Software License/Subscription                -60.47\n                                       Subscriptions and publications                 4.27\nName: USD Net Change, Length: 1581, dtype: float64"
     },
     "execution_count": 145,
     "metadata": {},
     "output_type": "execute_result"
    }
   ],
   "source": [
    "grouped_change = df.groupby(['Year', 'Quarter','Dept', 'Vendor', 'Account Description'])['USD Net Change'].sum()\n",
    "grouped_change"
   ],
   "metadata": {
    "collapsed": false,
    "ExecuteTime": {
     "end_time": "2024-07-31T00:05:32.859155700Z",
     "start_time": "2024-07-31T00:05:32.755350100Z"
    }
   }
  },
  {
   "cell_type": "code",
   "execution_count": 150,
   "outputs": [
    {
     "data": {
      "text/plain": "Year                                                                 2024  \\\nQuarter                                                                 1   \nDept           Vendor Account Description                                   \nAdministration A      Parking/validation/Public Transit/FSA         58.84   \n                      Software License/Subscription                  0.64   \n               AA     Software License/Subscription                  2.30   \n                      Special Events/Party/Meetings                   NaN   \n                      Supplies - dining/kitchen                     14.14   \n...                                                                   ...   \nTrading (NY)   I      Meals - Employee                                NaN   \n                      Rent - office                              -1227.48   \n                      Repairs, maintenance, utilities - building     7.81   \n                      Software License/Subscription                313.62   \n                      Subscriptions and publications                 4.27   \n\nYear                                                                     \nQuarter                                                               2  \nDept           Vendor Account Description                                \nAdministration A      Parking/validation/Public Transit/FSA       90.16  \n                      Software License/Subscription                1.93  \n               AA     Software License/Subscription                2.30  \n                      Special Events/Party/Meetings               31.78  \n                      Supplies - dining/kitchen                   49.40  \n...                                                                 ...  \nTrading (NY)   I      Meals - Employee                             5.07  \n                      Rent - office                              428.21  \n                      Repairs, maintenance, utilities - building  40.23  \n                      Software License/Subscription              -60.47  \n                      Subscriptions and publications               4.27  \n\n[962 rows x 2 columns]",
      "text/html": "<div>\n<style scoped>\n    .dataframe tbody tr th:only-of-type {\n        vertical-align: middle;\n    }\n\n    .dataframe tbody tr th {\n        vertical-align: top;\n    }\n\n    .dataframe thead tr th {\n        text-align: left;\n    }\n\n    .dataframe thead tr:last-of-type th {\n        text-align: right;\n    }\n</style>\n<table border=\"1\" class=\"dataframe\">\n  <thead>\n    <tr>\n      <th></th>\n      <th></th>\n      <th>Year</th>\n      <th colspan=\"2\" halign=\"left\">2024</th>\n    </tr>\n    <tr>\n      <th></th>\n      <th></th>\n      <th>Quarter</th>\n      <th>1</th>\n      <th>2</th>\n    </tr>\n    <tr>\n      <th>Dept</th>\n      <th>Vendor</th>\n      <th>Account Description</th>\n      <th></th>\n      <th></th>\n    </tr>\n  </thead>\n  <tbody>\n    <tr>\n      <th rowspan=\"5\" valign=\"top\">Administration</th>\n      <th rowspan=\"2\" valign=\"top\">A</th>\n      <th>Parking/validation/Public Transit/FSA</th>\n      <td>58.84</td>\n      <td>90.16</td>\n    </tr>\n    <tr>\n      <th>Software License/Subscription</th>\n      <td>0.64</td>\n      <td>1.93</td>\n    </tr>\n    <tr>\n      <th rowspan=\"3\" valign=\"top\">AA</th>\n      <th>Software License/Subscription</th>\n      <td>2.30</td>\n      <td>2.30</td>\n    </tr>\n    <tr>\n      <th>Special Events/Party/Meetings</th>\n      <td>NaN</td>\n      <td>31.78</td>\n    </tr>\n    <tr>\n      <th>Supplies - dining/kitchen</th>\n      <td>14.14</td>\n      <td>49.40</td>\n    </tr>\n    <tr>\n      <th>...</th>\n      <th>...</th>\n      <th>...</th>\n      <td>...</td>\n      <td>...</td>\n    </tr>\n    <tr>\n      <th rowspan=\"5\" valign=\"top\">Trading (NY)</th>\n      <th rowspan=\"5\" valign=\"top\">I</th>\n      <th>Meals - Employee</th>\n      <td>NaN</td>\n      <td>5.07</td>\n    </tr>\n    <tr>\n      <th>Rent - office</th>\n      <td>-1227.48</td>\n      <td>428.21</td>\n    </tr>\n    <tr>\n      <th>Repairs, maintenance, utilities - building</th>\n      <td>7.81</td>\n      <td>40.23</td>\n    </tr>\n    <tr>\n      <th>Software License/Subscription</th>\n      <td>313.62</td>\n      <td>-60.47</td>\n    </tr>\n    <tr>\n      <th>Subscriptions and publications</th>\n      <td>4.27</td>\n      <td>4.27</td>\n    </tr>\n  </tbody>\n</table>\n<p>962 rows × 2 columns</p>\n</div>"
     },
     "execution_count": 150,
     "metadata": {},
     "output_type": "execute_result"
    }
   ],
   "source": [
    "# yoy_change = grouped_change.unstack(level=[0,1]).pct_change(axis=1, fill_method='ffill')\n",
    "yoy_change = grouped_change.unstack(level=[0,1])\n",
    "yoy_change"
   ],
   "metadata": {
    "collapsed": false,
    "ExecuteTime": {
     "end_time": "2024-07-31T00:16:33.500811500Z",
     "start_time": "2024-07-31T00:16:33.476913300Z"
    }
   }
  },
  {
   "cell_type": "code",
   "execution_count": 151,
   "outputs": [
    {
     "data": {
      "text/plain": "Year                                                                            2024  \\\nQuarter                                                                            1   \nDept               Vendor Account Description                                          \nCESL               I      Advisory/ Service fee expense                     19814.44   \nBDC Advisors       I      Interest Expense                                   6903.58   \nCDL                E      Expenses of NCI in Consolidated Subsidaries            NaN   \nBDC Advisors       I      Professional fees-First Eagle                      3004.85   \nAircraft           AA     Aircraft management fee - Gama (N111CC)           -4116.49   \n...                                                                              ...   \nSPAC               E      Expenses of NCI in Consolidated Subsidaries       -2921.88   \nSepulveda          GGG    Tax preparation                                       2.37   \nSpecial Situations C      Regulatory, filling, registration, & license fees  -167.61   \n                   GGG    Tax preparation                                       2.84   \nTrading (LA)       I      Trading errors/losses                                 2.20   \n\nYear                                                                                  \nQuarter                                                                            2  \nDept               Vendor Account Description                                         \nCESL               I      Advisory/ Service fee expense                     39054.64  \nBDC Advisors       I      Interest Expense                                   6884.93  \nCDL                E      Expenses of NCI in Consolidated Subsidaries        5862.62  \nBDC Advisors       I      Professional fees-First Eagle                      3463.43  \nAircraft           AA     Aircraft management fee - Gama (N111CC)            3074.44  \n...                                                                              ...  \nSPAC               E      Expenses of NCI in Consolidated Subsidaries            NaN  \nSepulveda          GGG    Tax preparation                                        NaN  \nSpecial Situations C      Regulatory, filling, registration, & license fees      NaN  \n                   GGG    Tax preparation                                        NaN  \nTrading (LA)       I      Trading errors/losses                                  NaN  \n\n[962 rows x 2 columns]",
      "text/html": "<div>\n<style scoped>\n    .dataframe tbody tr th:only-of-type {\n        vertical-align: middle;\n    }\n\n    .dataframe tbody tr th {\n        vertical-align: top;\n    }\n\n    .dataframe thead tr th {\n        text-align: left;\n    }\n\n    .dataframe thead tr:last-of-type th {\n        text-align: right;\n    }\n</style>\n<table border=\"1\" class=\"dataframe\">\n  <thead>\n    <tr>\n      <th></th>\n      <th></th>\n      <th>Year</th>\n      <th colspan=\"2\" halign=\"left\">2024</th>\n    </tr>\n    <tr>\n      <th></th>\n      <th></th>\n      <th>Quarter</th>\n      <th>1</th>\n      <th>2</th>\n    </tr>\n    <tr>\n      <th>Dept</th>\n      <th>Vendor</th>\n      <th>Account Description</th>\n      <th></th>\n      <th></th>\n    </tr>\n  </thead>\n  <tbody>\n    <tr>\n      <th>CESL</th>\n      <th>I</th>\n      <th>Advisory/ Service fee expense</th>\n      <td>19814.44</td>\n      <td>39054.64</td>\n    </tr>\n    <tr>\n      <th>BDC Advisors</th>\n      <th>I</th>\n      <th>Interest Expense</th>\n      <td>6903.58</td>\n      <td>6884.93</td>\n    </tr>\n    <tr>\n      <th>CDL</th>\n      <th>E</th>\n      <th>Expenses of NCI in Consolidated Subsidaries</th>\n      <td>NaN</td>\n      <td>5862.62</td>\n    </tr>\n    <tr>\n      <th>BDC Advisors</th>\n      <th>I</th>\n      <th>Professional fees-First Eagle</th>\n      <td>3004.85</td>\n      <td>3463.43</td>\n    </tr>\n    <tr>\n      <th>Aircraft</th>\n      <th>AA</th>\n      <th>Aircraft management fee - Gama (N111CC)</th>\n      <td>-4116.49</td>\n      <td>3074.44</td>\n    </tr>\n    <tr>\n      <th>...</th>\n      <th>...</th>\n      <th>...</th>\n      <td>...</td>\n      <td>...</td>\n    </tr>\n    <tr>\n      <th>SPAC</th>\n      <th>E</th>\n      <th>Expenses of NCI in Consolidated Subsidaries</th>\n      <td>-2921.88</td>\n      <td>NaN</td>\n    </tr>\n    <tr>\n      <th>Sepulveda</th>\n      <th>GGG</th>\n      <th>Tax preparation</th>\n      <td>2.37</td>\n      <td>NaN</td>\n    </tr>\n    <tr>\n      <th rowspan=\"2\" valign=\"top\">Special Situations</th>\n      <th>C</th>\n      <th>Regulatory, filling, registration, &amp; license fees</th>\n      <td>-167.61</td>\n      <td>NaN</td>\n    </tr>\n    <tr>\n      <th>GGG</th>\n      <th>Tax preparation</th>\n      <td>2.84</td>\n      <td>NaN</td>\n    </tr>\n    <tr>\n      <th>Trading (LA)</th>\n      <th>I</th>\n      <th>Trading errors/losses</th>\n      <td>2.20</td>\n      <td>NaN</td>\n    </tr>\n  </tbody>\n</table>\n<p>962 rows × 2 columns</p>\n</div>"
     },
     "execution_count": 151,
     "metadata": {},
     "output_type": "execute_result"
    }
   ],
   "source": [
    "sorted_change = yoy_change.sort_values(by=(2024, 2), ascending=False)\n",
    "sorted_change"
   ],
   "metadata": {
    "collapsed": false,
    "ExecuteTime": {
     "end_time": "2024-07-31T00:16:37.252323200Z",
     "start_time": "2024-07-31T00:16:37.228655100Z"
    }
   }
  },
  {
   "cell_type": "markdown",
   "source": [
    "**Pivot**"
   ],
   "metadata": {
    "collapsed": false
   }
  },
  {
   "cell_type": "markdown",
   "source": [
    "*Other G&A*"
   ],
   "metadata": {
    "collapsed": false
   }
  },
  {
   "cell_type": "code",
   "execution_count": 123,
   "outputs": [
    {
     "data": {
      "text/plain": "Dept    Administration             Aircraft          BDC Advisors           \\\nYear              2024                 2024                  2024            \nQuarter             Q1          Q2       Q1       Q2           Q1       Q2   \nVendor                                                                       \nA                59.49       92.10     0.00     0.00       120.51    87.97   \nAA               -1.66      103.33  2763.00 -6162.13         0.00     0.00   \nB                80.57       84.37     0.00     0.00       112.28    90.80   \nC                61.34       12.67     0.00     0.00         0.00     0.00   \nCC            -1738.46      174.84     0.00     0.00        13.85    12.90   \nCCC            1479.99     1527.79     0.00     0.00       273.77   290.39   \nD            -42136.02   -42848.23  1018.02  1018.02       407.61   323.04   \nDD               17.51       23.31     0.00     0.00        21.15    21.15   \nE               133.46       80.85     0.00     0.00         0.00     0.00   \nEEE            5123.73        0.00     0.00     0.00         0.00     0.00   \nF                 7.53    -1726.38     0.13     0.00         0.35     0.00   \nFF               36.00      501.86     0.00     0.00         0.00     0.00   \nFFF              84.73      118.18     0.00     0.00        36.36    -3.56   \nGGG              17.61        0.00     0.00     0.00         0.00     0.00   \nHHH              27.33        0.00     0.00     0.00         0.00     0.00   \nI          -7757800.77 -1661762.80     0.00     0.00     11215.07 11271.07   \nJ                 0.00        0.00     0.00     0.00         0.00     0.00   \n\nDept     BDC Inc.          Bank Loans         ... Sepulveda       \\\nYear         2024                2024         ...      2024        \nQuarter        Q1       Q2         Q1     Q2  ...        Q1   Q2   \nVendor                                        ...                  \nA         -856.82     0.00       0.00   0.00  ...      0.00 0.00   \nAA           0.00     0.00       0.00   0.00  ...      0.00 0.00   \nB            0.00     0.00     133.85  96.07  ...      0.00 0.00   \nC            0.00     0.00       0.00   0.00  ...      0.00 0.00   \nCC           0.00     0.00      13.48  13.18  ...      0.00 0.00   \nCCC          0.00     0.00       0.00   0.00  ...      0.00 0.00   \nD        -3948.24 -3230.41     100.51 106.62  ...      0.00 0.00   \nDD           0.00     0.00       0.00   0.00  ...      0.00 0.00   \nE            0.00     0.00       0.00   0.00  ...      0.00 0.00   \nEEE          0.00     0.00       0.00   0.00  ...      0.00 0.00   \nF            0.00     0.00       0.00   0.00  ...      0.00 0.00   \nFF           0.00     0.00      13.57  13.48  ...      0.00 0.00   \nFFF          0.00     0.00       0.00   9.09  ...      0.00 0.00   \nGGG          0.00     0.00       2.37   0.00  ...      2.37 0.00   \nHHH          0.00     0.00       0.00   0.00  ...      0.00 0.00   \nI       -15685.11   -19.31   -9061.14 384.76  ...      1.18 3.55   \nJ            0.00     0.00       0.00   0.00  ...      0.00 0.00   \n\nDept    Special Situations        Structure Products        Trading (LA)  \\\nYear                  2024                      2024                2024   \nQuarter                 Q1     Q2                 Q1     Q2           Q1   \nVendor                                                                     \nA                    10.80   8.18               0.00   0.00       204.67   \nAA                    0.00   0.00               0.00   0.00         0.00   \nB                    16.62  11.46               0.00   0.00      2536.42   \nC                  -167.61   0.00               0.00   0.00         0.00   \nCC                    0.00   0.45               0.00   0.00         0.00   \nCCC                   0.00   0.00               0.00   0.00         0.00   \nD                     6.11   6.28               0.00   0.00        20.44   \nDD                    0.00   2.59               0.00   0.00         0.00   \nE                     0.00   0.00               0.00   0.00         0.00   \nEEE                   0.00   0.00               0.00   0.00         0.00   \nF                     0.00   0.00               0.00   0.00         3.59   \nFF                   12.17  12.17               0.00   0.00         3.31   \nFFF                   0.00   0.00               0.00   0.00         0.00   \nGGG                   2.84   0.00               0.00   0.00         0.00   \nHHH                   0.00   0.00               0.00   0.00         0.00   \nI                   -65.22 162.93             270.50 205.74      -430.39   \nJ                     0.00   0.00               0.00   0.00         0.00   \n\nDept            Trading (NY)         \nYear                    2024         \nQuarter      Q2           Q1     Q2  \nVendor                               \nA        196.19         0.32   0.97  \nAA         0.00         0.00   0.00  \nB       2552.22       489.15 394.71  \nC          0.00         0.00   0.00  \nCC        21.70         0.45   2.73  \nCCC        0.00         0.00   0.00  \nD         20.95       245.12 215.59  \nDD         0.00         0.00   0.00  \nE          0.00         0.00   0.00  \nEEE        0.00         0.00   0.00  \nF          2.45         0.00   1.59  \nFF         4.23        13.26  12.87  \nFFF        0.00         0.00   0.00  \nGGG        0.00         0.00   0.00  \nHHH        0.00         0.00   0.00  \nI        235.26      -646.54 696.26  \nJ          0.00         0.00   0.00  \n\n[17 rows x 61 columns]",
      "text/html": "<div>\n<style scoped>\n    .dataframe tbody tr th:only-of-type {\n        vertical-align: middle;\n    }\n\n    .dataframe tbody tr th {\n        vertical-align: top;\n    }\n\n    .dataframe thead tr th {\n        text-align: left;\n    }\n\n    .dataframe thead tr:last-of-type th {\n        text-align: right;\n    }\n</style>\n<table border=\"1\" class=\"dataframe\">\n  <thead>\n    <tr>\n      <th>Dept</th>\n      <th colspan=\"2\" halign=\"left\">Administration</th>\n      <th colspan=\"2\" halign=\"left\">Aircraft</th>\n      <th colspan=\"2\" halign=\"left\">BDC Advisors</th>\n      <th colspan=\"2\" halign=\"left\">BDC Inc.</th>\n      <th colspan=\"2\" halign=\"left\">Bank Loans</th>\n      <th>...</th>\n      <th colspan=\"2\" halign=\"left\">Sepulveda</th>\n      <th colspan=\"2\" halign=\"left\">Special Situations</th>\n      <th colspan=\"2\" halign=\"left\">Structure Products</th>\n      <th colspan=\"2\" halign=\"left\">Trading (LA)</th>\n      <th colspan=\"2\" halign=\"left\">Trading (NY)</th>\n    </tr>\n    <tr>\n      <th>Year</th>\n      <th colspan=\"2\" halign=\"left\">2024</th>\n      <th colspan=\"2\" halign=\"left\">2024</th>\n      <th colspan=\"2\" halign=\"left\">2024</th>\n      <th colspan=\"2\" halign=\"left\">2024</th>\n      <th colspan=\"2\" halign=\"left\">2024</th>\n      <th>...</th>\n      <th colspan=\"2\" halign=\"left\">2024</th>\n      <th colspan=\"2\" halign=\"left\">2024</th>\n      <th colspan=\"2\" halign=\"left\">2024</th>\n      <th colspan=\"2\" halign=\"left\">2024</th>\n      <th colspan=\"2\" halign=\"left\">2024</th>\n    </tr>\n    <tr>\n      <th>Quarter</th>\n      <th>Q1</th>\n      <th>Q2</th>\n      <th>Q1</th>\n      <th>Q2</th>\n      <th>Q1</th>\n      <th>Q2</th>\n      <th>Q1</th>\n      <th>Q2</th>\n      <th>Q1</th>\n      <th>Q2</th>\n      <th>...</th>\n      <th>Q1</th>\n      <th>Q2</th>\n      <th>Q1</th>\n      <th>Q2</th>\n      <th>Q1</th>\n      <th>Q2</th>\n      <th>Q1</th>\n      <th>Q2</th>\n      <th>Q1</th>\n      <th>Q2</th>\n    </tr>\n    <tr>\n      <th>Vendor</th>\n      <th></th>\n      <th></th>\n      <th></th>\n      <th></th>\n      <th></th>\n      <th></th>\n      <th></th>\n      <th></th>\n      <th></th>\n      <th></th>\n      <th></th>\n      <th></th>\n      <th></th>\n      <th></th>\n      <th></th>\n      <th></th>\n      <th></th>\n      <th></th>\n      <th></th>\n      <th></th>\n      <th></th>\n    </tr>\n  </thead>\n  <tbody>\n    <tr>\n      <th>A</th>\n      <td>59.49</td>\n      <td>92.10</td>\n      <td>0.00</td>\n      <td>0.00</td>\n      <td>120.51</td>\n      <td>87.97</td>\n      <td>-856.82</td>\n      <td>0.00</td>\n      <td>0.00</td>\n      <td>0.00</td>\n      <td>...</td>\n      <td>0.00</td>\n      <td>0.00</td>\n      <td>10.80</td>\n      <td>8.18</td>\n      <td>0.00</td>\n      <td>0.00</td>\n      <td>204.67</td>\n      <td>196.19</td>\n      <td>0.32</td>\n      <td>0.97</td>\n    </tr>\n    <tr>\n      <th>AA</th>\n      <td>-1.66</td>\n      <td>103.33</td>\n      <td>2763.00</td>\n      <td>-6162.13</td>\n      <td>0.00</td>\n      <td>0.00</td>\n      <td>0.00</td>\n      <td>0.00</td>\n      <td>0.00</td>\n      <td>0.00</td>\n      <td>...</td>\n      <td>0.00</td>\n      <td>0.00</td>\n      <td>0.00</td>\n      <td>0.00</td>\n      <td>0.00</td>\n      <td>0.00</td>\n      <td>0.00</td>\n      <td>0.00</td>\n      <td>0.00</td>\n      <td>0.00</td>\n    </tr>\n    <tr>\n      <th>B</th>\n      <td>80.57</td>\n      <td>84.37</td>\n      <td>0.00</td>\n      <td>0.00</td>\n      <td>112.28</td>\n      <td>90.80</td>\n      <td>0.00</td>\n      <td>0.00</td>\n      <td>133.85</td>\n      <td>96.07</td>\n      <td>...</td>\n      <td>0.00</td>\n      <td>0.00</td>\n      <td>16.62</td>\n      <td>11.46</td>\n      <td>0.00</td>\n      <td>0.00</td>\n      <td>2536.42</td>\n      <td>2552.22</td>\n      <td>489.15</td>\n      <td>394.71</td>\n    </tr>\n    <tr>\n      <th>C</th>\n      <td>61.34</td>\n      <td>12.67</td>\n      <td>0.00</td>\n      <td>0.00</td>\n      <td>0.00</td>\n      <td>0.00</td>\n      <td>0.00</td>\n      <td>0.00</td>\n      <td>0.00</td>\n      <td>0.00</td>\n      <td>...</td>\n      <td>0.00</td>\n      <td>0.00</td>\n      <td>-167.61</td>\n      <td>0.00</td>\n      <td>0.00</td>\n      <td>0.00</td>\n      <td>0.00</td>\n      <td>0.00</td>\n      <td>0.00</td>\n      <td>0.00</td>\n    </tr>\n    <tr>\n      <th>CC</th>\n      <td>-1738.46</td>\n      <td>174.84</td>\n      <td>0.00</td>\n      <td>0.00</td>\n      <td>13.85</td>\n      <td>12.90</td>\n      <td>0.00</td>\n      <td>0.00</td>\n      <td>13.48</td>\n      <td>13.18</td>\n      <td>...</td>\n      <td>0.00</td>\n      <td>0.00</td>\n      <td>0.00</td>\n      <td>0.45</td>\n      <td>0.00</td>\n      <td>0.00</td>\n      <td>0.00</td>\n      <td>21.70</td>\n      <td>0.45</td>\n      <td>2.73</td>\n    </tr>\n    <tr>\n      <th>CCC</th>\n      <td>1479.99</td>\n      <td>1527.79</td>\n      <td>0.00</td>\n      <td>0.00</td>\n      <td>273.77</td>\n      <td>290.39</td>\n      <td>0.00</td>\n      <td>0.00</td>\n      <td>0.00</td>\n      <td>0.00</td>\n      <td>...</td>\n      <td>0.00</td>\n      <td>0.00</td>\n      <td>0.00</td>\n      <td>0.00</td>\n      <td>0.00</td>\n      <td>0.00</td>\n      <td>0.00</td>\n      <td>0.00</td>\n      <td>0.00</td>\n      <td>0.00</td>\n    </tr>\n    <tr>\n      <th>D</th>\n      <td>-42136.02</td>\n      <td>-42848.23</td>\n      <td>1018.02</td>\n      <td>1018.02</td>\n      <td>407.61</td>\n      <td>323.04</td>\n      <td>-3948.24</td>\n      <td>-3230.41</td>\n      <td>100.51</td>\n      <td>106.62</td>\n      <td>...</td>\n      <td>0.00</td>\n      <td>0.00</td>\n      <td>6.11</td>\n      <td>6.28</td>\n      <td>0.00</td>\n      <td>0.00</td>\n      <td>20.44</td>\n      <td>20.95</td>\n      <td>245.12</td>\n      <td>215.59</td>\n    </tr>\n    <tr>\n      <th>DD</th>\n      <td>17.51</td>\n      <td>23.31</td>\n      <td>0.00</td>\n      <td>0.00</td>\n      <td>21.15</td>\n      <td>21.15</td>\n      <td>0.00</td>\n      <td>0.00</td>\n      <td>0.00</td>\n      <td>0.00</td>\n      <td>...</td>\n      <td>0.00</td>\n      <td>0.00</td>\n      <td>0.00</td>\n      <td>2.59</td>\n      <td>0.00</td>\n      <td>0.00</td>\n      <td>0.00</td>\n      <td>0.00</td>\n      <td>0.00</td>\n      <td>0.00</td>\n    </tr>\n    <tr>\n      <th>E</th>\n      <td>133.46</td>\n      <td>80.85</td>\n      <td>0.00</td>\n      <td>0.00</td>\n      <td>0.00</td>\n      <td>0.00</td>\n      <td>0.00</td>\n      <td>0.00</td>\n      <td>0.00</td>\n      <td>0.00</td>\n      <td>...</td>\n      <td>0.00</td>\n      <td>0.00</td>\n      <td>0.00</td>\n      <td>0.00</td>\n      <td>0.00</td>\n      <td>0.00</td>\n      <td>0.00</td>\n      <td>0.00</td>\n      <td>0.00</td>\n      <td>0.00</td>\n    </tr>\n    <tr>\n      <th>EEE</th>\n      <td>5123.73</td>\n      <td>0.00</td>\n      <td>0.00</td>\n      <td>0.00</td>\n      <td>0.00</td>\n      <td>0.00</td>\n      <td>0.00</td>\n      <td>0.00</td>\n      <td>0.00</td>\n      <td>0.00</td>\n      <td>...</td>\n      <td>0.00</td>\n      <td>0.00</td>\n      <td>0.00</td>\n      <td>0.00</td>\n      <td>0.00</td>\n      <td>0.00</td>\n      <td>0.00</td>\n      <td>0.00</td>\n      <td>0.00</td>\n      <td>0.00</td>\n    </tr>\n    <tr>\n      <th>F</th>\n      <td>7.53</td>\n      <td>-1726.38</td>\n      <td>0.13</td>\n      <td>0.00</td>\n      <td>0.35</td>\n      <td>0.00</td>\n      <td>0.00</td>\n      <td>0.00</td>\n      <td>0.00</td>\n      <td>0.00</td>\n      <td>...</td>\n      <td>0.00</td>\n      <td>0.00</td>\n      <td>0.00</td>\n      <td>0.00</td>\n      <td>0.00</td>\n      <td>0.00</td>\n      <td>3.59</td>\n      <td>2.45</td>\n      <td>0.00</td>\n      <td>1.59</td>\n    </tr>\n    <tr>\n      <th>FF</th>\n      <td>36.00</td>\n      <td>501.86</td>\n      <td>0.00</td>\n      <td>0.00</td>\n      <td>0.00</td>\n      <td>0.00</td>\n      <td>0.00</td>\n      <td>0.00</td>\n      <td>13.57</td>\n      <td>13.48</td>\n      <td>...</td>\n      <td>0.00</td>\n      <td>0.00</td>\n      <td>12.17</td>\n      <td>12.17</td>\n      <td>0.00</td>\n      <td>0.00</td>\n      <td>3.31</td>\n      <td>4.23</td>\n      <td>13.26</td>\n      <td>12.87</td>\n    </tr>\n    <tr>\n      <th>FFF</th>\n      <td>84.73</td>\n      <td>118.18</td>\n      <td>0.00</td>\n      <td>0.00</td>\n      <td>36.36</td>\n      <td>-3.56</td>\n      <td>0.00</td>\n      <td>0.00</td>\n      <td>0.00</td>\n      <td>9.09</td>\n      <td>...</td>\n      <td>0.00</td>\n      <td>0.00</td>\n      <td>0.00</td>\n      <td>0.00</td>\n      <td>0.00</td>\n      <td>0.00</td>\n      <td>0.00</td>\n      <td>0.00</td>\n      <td>0.00</td>\n      <td>0.00</td>\n    </tr>\n    <tr>\n      <th>GGG</th>\n      <td>17.61</td>\n      <td>0.00</td>\n      <td>0.00</td>\n      <td>0.00</td>\n      <td>0.00</td>\n      <td>0.00</td>\n      <td>0.00</td>\n      <td>0.00</td>\n      <td>2.37</td>\n      <td>0.00</td>\n      <td>...</td>\n      <td>2.37</td>\n      <td>0.00</td>\n      <td>2.84</td>\n      <td>0.00</td>\n      <td>0.00</td>\n      <td>0.00</td>\n      <td>0.00</td>\n      <td>0.00</td>\n      <td>0.00</td>\n      <td>0.00</td>\n    </tr>\n    <tr>\n      <th>HHH</th>\n      <td>27.33</td>\n      <td>0.00</td>\n      <td>0.00</td>\n      <td>0.00</td>\n      <td>0.00</td>\n      <td>0.00</td>\n      <td>0.00</td>\n      <td>0.00</td>\n      <td>0.00</td>\n      <td>0.00</td>\n      <td>...</td>\n      <td>0.00</td>\n      <td>0.00</td>\n      <td>0.00</td>\n      <td>0.00</td>\n      <td>0.00</td>\n      <td>0.00</td>\n      <td>0.00</td>\n      <td>0.00</td>\n      <td>0.00</td>\n      <td>0.00</td>\n    </tr>\n    <tr>\n      <th>I</th>\n      <td>-7757800.77</td>\n      <td>-1661762.80</td>\n      <td>0.00</td>\n      <td>0.00</td>\n      <td>11215.07</td>\n      <td>11271.07</td>\n      <td>-15685.11</td>\n      <td>-19.31</td>\n      <td>-9061.14</td>\n      <td>384.76</td>\n      <td>...</td>\n      <td>1.18</td>\n      <td>3.55</td>\n      <td>-65.22</td>\n      <td>162.93</td>\n      <td>270.50</td>\n      <td>205.74</td>\n      <td>-430.39</td>\n      <td>235.26</td>\n      <td>-646.54</td>\n      <td>696.26</td>\n    </tr>\n    <tr>\n      <th>J</th>\n      <td>0.00</td>\n      <td>0.00</td>\n      <td>0.00</td>\n      <td>0.00</td>\n      <td>0.00</td>\n      <td>0.00</td>\n      <td>0.00</td>\n      <td>0.00</td>\n      <td>0.00</td>\n      <td>0.00</td>\n      <td>...</td>\n      <td>0.00</td>\n      <td>0.00</td>\n      <td>0.00</td>\n      <td>0.00</td>\n      <td>0.00</td>\n      <td>0.00</td>\n      <td>0.00</td>\n      <td>0.00</td>\n      <td>0.00</td>\n      <td>0.00</td>\n    </tr>\n  </tbody>\n</table>\n<p>17 rows × 61 columns</p>\n</div>"
     },
     "execution_count": 123,
     "metadata": {},
     "output_type": "execute_result"
    }
   ],
   "source": [
    "pivot1 = df.pivot_table(values='USD Net Change', index=['Vendor'], columns=['Dept', 'Year', 'Quarter'], aggfunc='sum', fill_value=0)\n",
    "pivot1"
   ],
   "metadata": {
    "collapsed": false,
    "ExecuteTime": {
     "end_time": "2024-07-30T23:54:00.779115Z",
     "start_time": "2024-07-30T23:54:00.743555600Z"
    }
   }
  },
  {
   "cell_type": "markdown",
   "source": [
    "*Dept Forecast*"
   ],
   "metadata": {
    "collapsed": false
   }
  },
  {
   "cell_type": "code",
   "execution_count": 115,
   "outputs": [
    {
     "data": {
      "text/plain": "Year                                  2024            \nQuarter                                 Q1          Q2\nDept                                                  \nAdministration                 -7794547.60 -1703618.13\nAircraft                           3781.15    -5144.11\nBDC Advisors                      12200.95    12093.77\nBDC Inc.                         -20490.16    -3249.72\nBank Loans                        -8797.36      623.20\nCDL                                5374.47    13500.55\nCESL                            -592091.40  -615631.00\nCLO                                 817.58     2601.30\nCompliance                          603.77     1888.34\nExecutive Management: Founders    -1047.26      322.41\nFinance                            1576.19     4978.66\nHigh Yield Bonds                    -86.37     3718.42\nHuman Resources                     306.97     5067.28\nIR                                -1226.90     1497.30\nIT                                 -556.46     3214.30\nInsurance Dedicated Fund              6.96       12.64\nLegal                            -69518.16   -22164.41\nMarketing                          3936.08     3498.68\nMezzanine                         -2478.48     7970.36\nNT BDC Adm.                         537.94     1462.63\nNT BDC Adv.                         309.42    -7077.11\nPortfolio Administration          -7316.68     3055.94\nPrivate Credit                      447.96      475.90\nResearch/Analytics (BL)               1.36      -24.09\nResearch/Analytics (HY)             101.23     3095.29\nSPAC                              -2921.88        0.00\nSepulveda                             3.55        3.55\nSpecial Situations                 -184.31      204.06\nStructure Products                  270.50      205.74\nTrading (LA)                       2338.05     3033.01\nTrading (NY)                        101.76     1324.72",
      "text/html": "<div>\n<style scoped>\n    .dataframe tbody tr th:only-of-type {\n        vertical-align: middle;\n    }\n\n    .dataframe tbody tr th {\n        vertical-align: top;\n    }\n\n    .dataframe thead tr th {\n        text-align: left;\n    }\n\n    .dataframe thead tr:last-of-type th {\n        text-align: right;\n    }\n</style>\n<table border=\"1\" class=\"dataframe\">\n  <thead>\n    <tr>\n      <th>Year</th>\n      <th colspan=\"2\" halign=\"left\">2024</th>\n    </tr>\n    <tr>\n      <th>Quarter</th>\n      <th>Q1</th>\n      <th>Q2</th>\n    </tr>\n    <tr>\n      <th>Dept</th>\n      <th></th>\n      <th></th>\n    </tr>\n  </thead>\n  <tbody>\n    <tr>\n      <th>Administration</th>\n      <td>-7794547.60</td>\n      <td>-1703618.13</td>\n    </tr>\n    <tr>\n      <th>Aircraft</th>\n      <td>3781.15</td>\n      <td>-5144.11</td>\n    </tr>\n    <tr>\n      <th>BDC Advisors</th>\n      <td>12200.95</td>\n      <td>12093.77</td>\n    </tr>\n    <tr>\n      <th>BDC Inc.</th>\n      <td>-20490.16</td>\n      <td>-3249.72</td>\n    </tr>\n    <tr>\n      <th>Bank Loans</th>\n      <td>-8797.36</td>\n      <td>623.20</td>\n    </tr>\n    <tr>\n      <th>CDL</th>\n      <td>5374.47</td>\n      <td>13500.55</td>\n    </tr>\n    <tr>\n      <th>CESL</th>\n      <td>-592091.40</td>\n      <td>-615631.00</td>\n    </tr>\n    <tr>\n      <th>CLO</th>\n      <td>817.58</td>\n      <td>2601.30</td>\n    </tr>\n    <tr>\n      <th>Compliance</th>\n      <td>603.77</td>\n      <td>1888.34</td>\n    </tr>\n    <tr>\n      <th>Executive Management: Founders</th>\n      <td>-1047.26</td>\n      <td>322.41</td>\n    </tr>\n    <tr>\n      <th>Finance</th>\n      <td>1576.19</td>\n      <td>4978.66</td>\n    </tr>\n    <tr>\n      <th>High Yield Bonds</th>\n      <td>-86.37</td>\n      <td>3718.42</td>\n    </tr>\n    <tr>\n      <th>Human Resources</th>\n      <td>306.97</td>\n      <td>5067.28</td>\n    </tr>\n    <tr>\n      <th>IR</th>\n      <td>-1226.90</td>\n      <td>1497.30</td>\n    </tr>\n    <tr>\n      <th>IT</th>\n      <td>-556.46</td>\n      <td>3214.30</td>\n    </tr>\n    <tr>\n      <th>Insurance Dedicated Fund</th>\n      <td>6.96</td>\n      <td>12.64</td>\n    </tr>\n    <tr>\n      <th>Legal</th>\n      <td>-69518.16</td>\n      <td>-22164.41</td>\n    </tr>\n    <tr>\n      <th>Marketing</th>\n      <td>3936.08</td>\n      <td>3498.68</td>\n    </tr>\n    <tr>\n      <th>Mezzanine</th>\n      <td>-2478.48</td>\n      <td>7970.36</td>\n    </tr>\n    <tr>\n      <th>NT BDC Adm.</th>\n      <td>537.94</td>\n      <td>1462.63</td>\n    </tr>\n    <tr>\n      <th>NT BDC Adv.</th>\n      <td>309.42</td>\n      <td>-7077.11</td>\n    </tr>\n    <tr>\n      <th>Portfolio Administration</th>\n      <td>-7316.68</td>\n      <td>3055.94</td>\n    </tr>\n    <tr>\n      <th>Private Credit</th>\n      <td>447.96</td>\n      <td>475.90</td>\n    </tr>\n    <tr>\n      <th>Research/Analytics (BL)</th>\n      <td>1.36</td>\n      <td>-24.09</td>\n    </tr>\n    <tr>\n      <th>Research/Analytics (HY)</th>\n      <td>101.23</td>\n      <td>3095.29</td>\n    </tr>\n    <tr>\n      <th>SPAC</th>\n      <td>-2921.88</td>\n      <td>0.00</td>\n    </tr>\n    <tr>\n      <th>Sepulveda</th>\n      <td>3.55</td>\n      <td>3.55</td>\n    </tr>\n    <tr>\n      <th>Special Situations</th>\n      <td>-184.31</td>\n      <td>204.06</td>\n    </tr>\n    <tr>\n      <th>Structure Products</th>\n      <td>270.50</td>\n      <td>205.74</td>\n    </tr>\n    <tr>\n      <th>Trading (LA)</th>\n      <td>2338.05</td>\n      <td>3033.01</td>\n    </tr>\n    <tr>\n      <th>Trading (NY)</th>\n      <td>101.76</td>\n      <td>1324.72</td>\n    </tr>\n  </tbody>\n</table>\n</div>"
     },
     "execution_count": 115,
     "metadata": {},
     "output_type": "execute_result"
    }
   ],
   "source": [
    "pivot2 = df.pivot_table(values='USD Net Change', index=['Dept'], columns=['Year', 'Quarter'], aggfunc='sum', fill_value=0)\n",
    "pivot2"
   ],
   "metadata": {
    "collapsed": false,
    "ExecuteTime": {
     "end_time": "2024-07-30T23:52:25.860689900Z",
     "start_time": "2024-07-30T23:52:25.755535Z"
    }
   }
  },
  {
   "cell_type": "markdown",
   "source": [
    "*Q vs Q*"
   ],
   "metadata": {
    "collapsed": false
   }
  },
  {
   "cell_type": "code",
   "execution_count": 116,
   "outputs": [
    {
     "data": {
      "text/plain": "Year                                  2024               Variance Variance %\nQuarter                                 Q1          Q2                      \nDept                                                                        \nAdministration                 -7794547.60 -1703618.13 6090929.47      -0.78\nAircraft                           3781.15    -5144.11   -8925.26      -2.36\nBDC Advisors                      12200.95    12093.77    -107.18      -0.01\nBDC Inc.                         -20490.16    -3249.72   17240.44      -0.84\nBank Loans                        -8797.36      623.20    9420.56      -1.07\nCDL                                5374.47    13500.55    8126.08       1.51\nCESL                            -592091.40  -615631.00  -23539.60       0.04\nCLO                                 817.58     2601.30    1783.73       2.18\nCompliance                          603.77     1888.34    1284.57       2.13\nExecutive Management: Founders    -1047.26      322.41    1369.66      -1.31\nFinance                            1576.19     4978.66    3402.47       2.16\nHigh Yield Bonds                    -86.37     3718.42    3804.79     -44.05\nHuman Resources                     306.97     5067.28    4760.31      15.51\nIR                                -1226.90     1497.30    2724.20      -2.22\nIT                                 -556.46     3214.30    3770.76      -6.78\nInsurance Dedicated Fund              6.96       12.64       5.68       0.82\nLegal                            -69518.16   -22164.41   47353.75      -0.68\nMarketing                          3936.08     3498.68    -437.40      -0.11\nMezzanine                         -2478.48     7970.36   10448.84      -4.22\nNT BDC Adm.                         537.94     1462.63     924.69       1.72\nNT BDC Adv.                         309.42    -7077.11   -7386.54     -23.87\nPortfolio Administration          -7316.68     3055.94   10372.62      -1.42\nPrivate Credit                      447.96      475.90      27.94       0.06\nResearch/Analytics (BL)               1.36      -24.09     -25.45     -18.67\nResearch/Analytics (HY)             101.23     3095.29    2994.07      29.58\nSPAC                              -2921.88        0.00    2921.88      -1.00\nSepulveda                             3.55        3.55       0.00       0.00\nSpecial Situations                 -184.31      204.06     388.37      -2.11\nStructure Products                  270.50      205.74     -64.76      -0.24\nTrading (LA)                       2338.05     3033.01     694.95       0.30\nTrading (NY)                        101.76     1324.72    1222.95      12.02",
      "text/html": "<div>\n<style scoped>\n    .dataframe tbody tr th:only-of-type {\n        vertical-align: middle;\n    }\n\n    .dataframe tbody tr th {\n        vertical-align: top;\n    }\n\n    .dataframe thead tr th {\n        text-align: left;\n    }\n\n    .dataframe thead tr:last-of-type th {\n        text-align: right;\n    }\n</style>\n<table border=\"1\" class=\"dataframe\">\n  <thead>\n    <tr>\n      <th>Year</th>\n      <th colspan=\"2\" halign=\"left\">2024</th>\n      <th>Variance</th>\n      <th>Variance %</th>\n    </tr>\n    <tr>\n      <th>Quarter</th>\n      <th>Q1</th>\n      <th>Q2</th>\n      <th></th>\n      <th></th>\n    </tr>\n    <tr>\n      <th>Dept</th>\n      <th></th>\n      <th></th>\n      <th></th>\n      <th></th>\n    </tr>\n  </thead>\n  <tbody>\n    <tr>\n      <th>Administration</th>\n      <td>-7794547.60</td>\n      <td>-1703618.13</td>\n      <td>6090929.47</td>\n      <td>-0.78</td>\n    </tr>\n    <tr>\n      <th>Aircraft</th>\n      <td>3781.15</td>\n      <td>-5144.11</td>\n      <td>-8925.26</td>\n      <td>-2.36</td>\n    </tr>\n    <tr>\n      <th>BDC Advisors</th>\n      <td>12200.95</td>\n      <td>12093.77</td>\n      <td>-107.18</td>\n      <td>-0.01</td>\n    </tr>\n    <tr>\n      <th>BDC Inc.</th>\n      <td>-20490.16</td>\n      <td>-3249.72</td>\n      <td>17240.44</td>\n      <td>-0.84</td>\n    </tr>\n    <tr>\n      <th>Bank Loans</th>\n      <td>-8797.36</td>\n      <td>623.20</td>\n      <td>9420.56</td>\n      <td>-1.07</td>\n    </tr>\n    <tr>\n      <th>CDL</th>\n      <td>5374.47</td>\n      <td>13500.55</td>\n      <td>8126.08</td>\n      <td>1.51</td>\n    </tr>\n    <tr>\n      <th>CESL</th>\n      <td>-592091.40</td>\n      <td>-615631.00</td>\n      <td>-23539.60</td>\n      <td>0.04</td>\n    </tr>\n    <tr>\n      <th>CLO</th>\n      <td>817.58</td>\n      <td>2601.30</td>\n      <td>1783.73</td>\n      <td>2.18</td>\n    </tr>\n    <tr>\n      <th>Compliance</th>\n      <td>603.77</td>\n      <td>1888.34</td>\n      <td>1284.57</td>\n      <td>2.13</td>\n    </tr>\n    <tr>\n      <th>Executive Management: Founders</th>\n      <td>-1047.26</td>\n      <td>322.41</td>\n      <td>1369.66</td>\n      <td>-1.31</td>\n    </tr>\n    <tr>\n      <th>Finance</th>\n      <td>1576.19</td>\n      <td>4978.66</td>\n      <td>3402.47</td>\n      <td>2.16</td>\n    </tr>\n    <tr>\n      <th>High Yield Bonds</th>\n      <td>-86.37</td>\n      <td>3718.42</td>\n      <td>3804.79</td>\n      <td>-44.05</td>\n    </tr>\n    <tr>\n      <th>Human Resources</th>\n      <td>306.97</td>\n      <td>5067.28</td>\n      <td>4760.31</td>\n      <td>15.51</td>\n    </tr>\n    <tr>\n      <th>IR</th>\n      <td>-1226.90</td>\n      <td>1497.30</td>\n      <td>2724.20</td>\n      <td>-2.22</td>\n    </tr>\n    <tr>\n      <th>IT</th>\n      <td>-556.46</td>\n      <td>3214.30</td>\n      <td>3770.76</td>\n      <td>-6.78</td>\n    </tr>\n    <tr>\n      <th>Insurance Dedicated Fund</th>\n      <td>6.96</td>\n      <td>12.64</td>\n      <td>5.68</td>\n      <td>0.82</td>\n    </tr>\n    <tr>\n      <th>Legal</th>\n      <td>-69518.16</td>\n      <td>-22164.41</td>\n      <td>47353.75</td>\n      <td>-0.68</td>\n    </tr>\n    <tr>\n      <th>Marketing</th>\n      <td>3936.08</td>\n      <td>3498.68</td>\n      <td>-437.40</td>\n      <td>-0.11</td>\n    </tr>\n    <tr>\n      <th>Mezzanine</th>\n      <td>-2478.48</td>\n      <td>7970.36</td>\n      <td>10448.84</td>\n      <td>-4.22</td>\n    </tr>\n    <tr>\n      <th>NT BDC Adm.</th>\n      <td>537.94</td>\n      <td>1462.63</td>\n      <td>924.69</td>\n      <td>1.72</td>\n    </tr>\n    <tr>\n      <th>NT BDC Adv.</th>\n      <td>309.42</td>\n      <td>-7077.11</td>\n      <td>-7386.54</td>\n      <td>-23.87</td>\n    </tr>\n    <tr>\n      <th>Portfolio Administration</th>\n      <td>-7316.68</td>\n      <td>3055.94</td>\n      <td>10372.62</td>\n      <td>-1.42</td>\n    </tr>\n    <tr>\n      <th>Private Credit</th>\n      <td>447.96</td>\n      <td>475.90</td>\n      <td>27.94</td>\n      <td>0.06</td>\n    </tr>\n    <tr>\n      <th>Research/Analytics (BL)</th>\n      <td>1.36</td>\n      <td>-24.09</td>\n      <td>-25.45</td>\n      <td>-18.67</td>\n    </tr>\n    <tr>\n      <th>Research/Analytics (HY)</th>\n      <td>101.23</td>\n      <td>3095.29</td>\n      <td>2994.07</td>\n      <td>29.58</td>\n    </tr>\n    <tr>\n      <th>SPAC</th>\n      <td>-2921.88</td>\n      <td>0.00</td>\n      <td>2921.88</td>\n      <td>-1.00</td>\n    </tr>\n    <tr>\n      <th>Sepulveda</th>\n      <td>3.55</td>\n      <td>3.55</td>\n      <td>0.00</td>\n      <td>0.00</td>\n    </tr>\n    <tr>\n      <th>Special Situations</th>\n      <td>-184.31</td>\n      <td>204.06</td>\n      <td>388.37</td>\n      <td>-2.11</td>\n    </tr>\n    <tr>\n      <th>Structure Products</th>\n      <td>270.50</td>\n      <td>205.74</td>\n      <td>-64.76</td>\n      <td>-0.24</td>\n    </tr>\n    <tr>\n      <th>Trading (LA)</th>\n      <td>2338.05</td>\n      <td>3033.01</td>\n      <td>694.95</td>\n      <td>0.30</td>\n    </tr>\n    <tr>\n      <th>Trading (NY)</th>\n      <td>101.76</td>\n      <td>1324.72</td>\n      <td>1222.95</td>\n      <td>12.02</td>\n    </tr>\n  </tbody>\n</table>\n</div>"
     },
     "execution_count": 116,
     "metadata": {},
     "output_type": "execute_result"
    }
   ],
   "source": [
    "QoQ = df.pivot_table(values='USD Net Change', index=['Dept'], columns=['Year', 'Quarter'], aggfunc='sum', fill_value=0)\n",
    "QoQ['Variance'] = QoQ.iloc[:,1] - QoQ.iloc[:,0]\n",
    "QoQ['Variance %'] = QoQ.iloc[:,2] / QoQ.iloc[:,0]\n",
    "QoQ"
   ],
   "metadata": {
    "collapsed": false,
    "ExecuteTime": {
     "end_time": "2024-07-30T23:52:25.876043800Z",
     "start_time": "2024-07-30T23:52:25.787524700Z"
    }
   }
  },
  {
   "cell_type": "markdown",
   "source": [
    "*Y vs Y*"
   ],
   "metadata": {
    "collapsed": false
   }
  },
  {
   "cell_type": "code",
   "execution_count": 117,
   "outputs": [
    {
     "data": {
      "text/plain": "Year                                  2024\nDept                                      \nAdministration                 -9498165.73\nAircraft                          -1362.95\nBDC Advisors                      24294.72\nBDC Inc.                         -23739.88\nBank Loans                        -8174.16\nCDL                               18875.01\nCESL                           -1207722.39\nCLO                                3418.88\nCompliance                         2492.11\nExecutive Management: Founders     -724.85\nFinance                            6554.85\nHigh Yield Bonds                   3632.06\nHuman Resources                    5374.25\nIR                                  270.39\nIT                                 2657.84\nInsurance Dedicated Fund             19.60\nLegal                            -91682.57\nMarketing                          7434.76\nMezzanine                          5491.88\nNT BDC Adm.                        2000.57\nNT BDC Adv.                       -6767.69\nPortfolio Administration          -4260.75\nPrivate Credit                      923.86\nResearch/Analytics (BL)             -22.73\nResearch/Analytics (HY)            3196.52\nSPAC                              -2921.88\nSepulveda                             7.10\nSpecial Situations                   19.76\nStructure Products                  476.24\nTrading (LA)                       5371.06\nTrading (NY)                       1426.48",
      "text/html": "<div>\n<style scoped>\n    .dataframe tbody tr th:only-of-type {\n        vertical-align: middle;\n    }\n\n    .dataframe tbody tr th {\n        vertical-align: top;\n    }\n\n    .dataframe thead th {\n        text-align: right;\n    }\n</style>\n<table border=\"1\" class=\"dataframe\">\n  <thead>\n    <tr style=\"text-align: right;\">\n      <th>Year</th>\n      <th>2024</th>\n    </tr>\n    <tr>\n      <th>Dept</th>\n      <th></th>\n    </tr>\n  </thead>\n  <tbody>\n    <tr>\n      <th>Administration</th>\n      <td>-9498165.73</td>\n    </tr>\n    <tr>\n      <th>Aircraft</th>\n      <td>-1362.95</td>\n    </tr>\n    <tr>\n      <th>BDC Advisors</th>\n      <td>24294.72</td>\n    </tr>\n    <tr>\n      <th>BDC Inc.</th>\n      <td>-23739.88</td>\n    </tr>\n    <tr>\n      <th>Bank Loans</th>\n      <td>-8174.16</td>\n    </tr>\n    <tr>\n      <th>CDL</th>\n      <td>18875.01</td>\n    </tr>\n    <tr>\n      <th>CESL</th>\n      <td>-1207722.39</td>\n    </tr>\n    <tr>\n      <th>CLO</th>\n      <td>3418.88</td>\n    </tr>\n    <tr>\n      <th>Compliance</th>\n      <td>2492.11</td>\n    </tr>\n    <tr>\n      <th>Executive Management: Founders</th>\n      <td>-724.85</td>\n    </tr>\n    <tr>\n      <th>Finance</th>\n      <td>6554.85</td>\n    </tr>\n    <tr>\n      <th>High Yield Bonds</th>\n      <td>3632.06</td>\n    </tr>\n    <tr>\n      <th>Human Resources</th>\n      <td>5374.25</td>\n    </tr>\n    <tr>\n      <th>IR</th>\n      <td>270.39</td>\n    </tr>\n    <tr>\n      <th>IT</th>\n      <td>2657.84</td>\n    </tr>\n    <tr>\n      <th>Insurance Dedicated Fund</th>\n      <td>19.60</td>\n    </tr>\n    <tr>\n      <th>Legal</th>\n      <td>-91682.57</td>\n    </tr>\n    <tr>\n      <th>Marketing</th>\n      <td>7434.76</td>\n    </tr>\n    <tr>\n      <th>Mezzanine</th>\n      <td>5491.88</td>\n    </tr>\n    <tr>\n      <th>NT BDC Adm.</th>\n      <td>2000.57</td>\n    </tr>\n    <tr>\n      <th>NT BDC Adv.</th>\n      <td>-6767.69</td>\n    </tr>\n    <tr>\n      <th>Portfolio Administration</th>\n      <td>-4260.75</td>\n    </tr>\n    <tr>\n      <th>Private Credit</th>\n      <td>923.86</td>\n    </tr>\n    <tr>\n      <th>Research/Analytics (BL)</th>\n      <td>-22.73</td>\n    </tr>\n    <tr>\n      <th>Research/Analytics (HY)</th>\n      <td>3196.52</td>\n    </tr>\n    <tr>\n      <th>SPAC</th>\n      <td>-2921.88</td>\n    </tr>\n    <tr>\n      <th>Sepulveda</th>\n      <td>7.10</td>\n    </tr>\n    <tr>\n      <th>Special Situations</th>\n      <td>19.76</td>\n    </tr>\n    <tr>\n      <th>Structure Products</th>\n      <td>476.24</td>\n    </tr>\n    <tr>\n      <th>Trading (LA)</th>\n      <td>5371.06</td>\n    </tr>\n    <tr>\n      <th>Trading (NY)</th>\n      <td>1426.48</td>\n    </tr>\n  </tbody>\n</table>\n</div>"
     },
     "execution_count": 117,
     "metadata": {},
     "output_type": "execute_result"
    }
   ],
   "source": [
    "YoY = df.pivot_table(values='USD Net Change', index=['Dept'], columns=['Year'], aggfunc='sum', fill_value=0)\n",
    "# YoY['Variance'] = YoY.iloc[:,1] - YoY.iloc[:,0]\n",
    "# YoY['Variance %'] = YoY.iloc[:,2] / YoY.iloc[:,0]\n",
    "YoY"
   ],
   "metadata": {
    "collapsed": false,
    "ExecuteTime": {
     "end_time": "2024-07-30T23:52:25.876043800Z",
     "start_time": "2024-07-30T23:52:25.817643500Z"
    }
   }
  },
  {
   "cell_type": "markdown",
   "source": [
    "**Export To File**"
   ],
   "metadata": {
    "collapsed": false
   }
  },
  {
   "cell_type": "code",
   "execution_count": 118,
   "outputs": [],
   "source": [
    "with pd.ExcelWriter(r'C:\\Users\\ygu\\Documents\\Mia Output File.xlsx') as writer:\n",
    "    QoQ.to_excel(writer, sheet_name='Q vs Q')\n",
    "    YoY.to_excel(writer, sheet_name='Y vs Y')\n",
    "    pivot2.to_excel(writer, sheet_name='Dept Forecast')\n",
    "    pivot1.to_excel(writer, sheet_name='Other G&A')"
   ],
   "metadata": {
    "collapsed": false,
    "ExecuteTime": {
     "end_time": "2024-07-30T23:52:26.067256400Z",
     "start_time": "2024-07-30T23:52:25.834486700Z"
    }
   }
  },
  {
   "cell_type": "code",
   "execution_count": 118,
   "outputs": [],
   "source": [],
   "metadata": {
    "collapsed": false,
    "ExecuteTime": {
     "end_time": "2024-07-30T23:52:26.101081500Z",
     "start_time": "2024-07-30T23:52:25.925495200Z"
    }
   }
  },
  {
   "cell_type": "code",
   "execution_count": 119,
   "outputs": [
    {
     "data": {
      "text/plain": "0       Administration\n1                Legal\n2                Legal\n3                Legal\n4                  CLO\n             ...      \n8977      BDC Advisors\n8978      BDC Advisors\n8979      BDC Advisors\n8980      BDC Advisors\n8981      BDC Advisors\nName: Dept, Length: 8982, dtype: object"
     },
     "execution_count": 119,
     "metadata": {},
     "output_type": "execute_result"
    }
   ],
   "source": [
    "df.iloc[:,4]"
   ],
   "metadata": {
    "collapsed": false,
    "ExecuteTime": {
     "end_time": "2024-07-30T23:52:26.234146800Z",
     "start_time": "2024-07-30T23:52:25.940011500Z"
    }
   }
  },
  {
   "cell_type": "code",
   "execution_count": 120,
   "outputs": [
    {
     "ename": "KeyError",
     "evalue": "\"None of [Index(['Administration', 'Legal', 'Legal', 'Legal', 'CLO', 'Mezzanine', 'CESL',\\n       'Finance', 'Finance', 'Finance',\\n       ...\\n       'BDC Advisors', 'BDC Advisors', 'BDC Advisors', 'BDC Advisors',\\n       'BDC Advisors', 'BDC Advisors', 'BDC Advisors', 'BDC Advisors',\\n       'BDC Advisors', 'BDC Advisors'],\\n      dtype='object', length=8982)] are in the [columns]\"",
     "output_type": "error",
     "traceback": [
      "\u001B[1;31m---------------------------------------------------------------------------\u001B[0m",
      "\u001B[1;31mKeyError\u001B[0m                                  Traceback (most recent call last)",
      "\u001B[1;32m~\\AppData\\Local\\Temp\\ipykernel_23560\\2961683143.py\u001B[0m in \u001B[0;36m<module>\u001B[1;34m\u001B[0m\n\u001B[1;32m----> 1\u001B[1;33m \u001B[0mdf\u001B[0m\u001B[1;33m.\u001B[0m\u001B[0mplot\u001B[0m\u001B[1;33m(\u001B[0m\u001B[0mdf\u001B[0m\u001B[1;33m.\u001B[0m\u001B[0miloc\u001B[0m\u001B[1;33m[\u001B[0m\u001B[1;33m:\u001B[0m\u001B[1;33m,\u001B[0m\u001B[1;36m4\u001B[0m\u001B[1;33m]\u001B[0m\u001B[1;33m,\u001B[0m \u001B[1;34m'USD Net Change'\u001B[0m\u001B[1;33m)\u001B[0m\u001B[1;33m\u001B[0m\u001B[1;33m\u001B[0m\u001B[0m\n\u001B[0m",
      "\u001B[1;32m~\\Desktop\\Code Base\\Scripts\\lib\\site-packages\\pandas\\plotting\\_core.py\u001B[0m in \u001B[0;36m__call__\u001B[1;34m(self, *args, **kwargs)\u001B[0m\n\u001B[0;32m    935\u001B[0m                 \u001B[1;32mif\u001B[0m \u001B[0mis_integer\u001B[0m\u001B[1;33m(\u001B[0m\u001B[0mx\u001B[0m\u001B[1;33m)\u001B[0m \u001B[1;32mand\u001B[0m \u001B[1;32mnot\u001B[0m \u001B[0mdata\u001B[0m\u001B[1;33m.\u001B[0m\u001B[0mcolumns\u001B[0m\u001B[1;33m.\u001B[0m\u001B[0mholds_integer\u001B[0m\u001B[1;33m(\u001B[0m\u001B[1;33m)\u001B[0m\u001B[1;33m:\u001B[0m\u001B[1;33m\u001B[0m\u001B[1;33m\u001B[0m\u001B[0m\n\u001B[0;32m    936\u001B[0m                     \u001B[0mx\u001B[0m \u001B[1;33m=\u001B[0m \u001B[0mdata_cols\u001B[0m\u001B[1;33m[\u001B[0m\u001B[0mx\u001B[0m\u001B[1;33m]\u001B[0m\u001B[1;33m\u001B[0m\u001B[1;33m\u001B[0m\u001B[0m\n\u001B[1;32m--> 937\u001B[1;33m                 \u001B[1;32melif\u001B[0m \u001B[1;32mnot\u001B[0m \u001B[0misinstance\u001B[0m\u001B[1;33m(\u001B[0m\u001B[0mdata\u001B[0m\u001B[1;33m[\u001B[0m\u001B[0mx\u001B[0m\u001B[1;33m]\u001B[0m\u001B[1;33m,\u001B[0m \u001B[0mABCSeries\u001B[0m\u001B[1;33m)\u001B[0m\u001B[1;33m:\u001B[0m\u001B[1;33m\u001B[0m\u001B[1;33m\u001B[0m\u001B[0m\n\u001B[0m\u001B[0;32m    938\u001B[0m                     \u001B[1;32mraise\u001B[0m \u001B[0mValueError\u001B[0m\u001B[1;33m(\u001B[0m\u001B[1;34m\"x must be a label or position\"\u001B[0m\u001B[1;33m)\u001B[0m\u001B[1;33m\u001B[0m\u001B[1;33m\u001B[0m\u001B[0m\n\u001B[0;32m    939\u001B[0m                 \u001B[0mdata\u001B[0m \u001B[1;33m=\u001B[0m \u001B[0mdata\u001B[0m\u001B[1;33m.\u001B[0m\u001B[0mset_index\u001B[0m\u001B[1;33m(\u001B[0m\u001B[0mx\u001B[0m\u001B[1;33m)\u001B[0m\u001B[1;33m\u001B[0m\u001B[1;33m\u001B[0m\u001B[0m\n",
      "\u001B[1;32m~\\Desktop\\Code Base\\Scripts\\lib\\site-packages\\pandas\\core\\frame.py\u001B[0m in \u001B[0;36m__getitem__\u001B[1;34m(self, key)\u001B[0m\n\u001B[0;32m   3462\u001B[0m             \u001B[1;32mif\u001B[0m \u001B[0mis_iterator\u001B[0m\u001B[1;33m(\u001B[0m\u001B[0mkey\u001B[0m\u001B[1;33m)\u001B[0m\u001B[1;33m:\u001B[0m\u001B[1;33m\u001B[0m\u001B[1;33m\u001B[0m\u001B[0m\n\u001B[0;32m   3463\u001B[0m                 \u001B[0mkey\u001B[0m \u001B[1;33m=\u001B[0m \u001B[0mlist\u001B[0m\u001B[1;33m(\u001B[0m\u001B[0mkey\u001B[0m\u001B[1;33m)\u001B[0m\u001B[1;33m\u001B[0m\u001B[1;33m\u001B[0m\u001B[0m\n\u001B[1;32m-> 3464\u001B[1;33m             \u001B[0mindexer\u001B[0m \u001B[1;33m=\u001B[0m \u001B[0mself\u001B[0m\u001B[1;33m.\u001B[0m\u001B[0mloc\u001B[0m\u001B[1;33m.\u001B[0m\u001B[0m_get_listlike_indexer\u001B[0m\u001B[1;33m(\u001B[0m\u001B[0mkey\u001B[0m\u001B[1;33m,\u001B[0m \u001B[0maxis\u001B[0m\u001B[1;33m=\u001B[0m\u001B[1;36m1\u001B[0m\u001B[1;33m)\u001B[0m\u001B[1;33m[\u001B[0m\u001B[1;36m1\u001B[0m\u001B[1;33m]\u001B[0m\u001B[1;33m\u001B[0m\u001B[1;33m\u001B[0m\u001B[0m\n\u001B[0m\u001B[0;32m   3465\u001B[0m \u001B[1;33m\u001B[0m\u001B[0m\n\u001B[0;32m   3466\u001B[0m         \u001B[1;31m# take() does not accept boolean indexers\u001B[0m\u001B[1;33m\u001B[0m\u001B[1;33m\u001B[0m\u001B[1;33m\u001B[0m\u001B[0m\n",
      "\u001B[1;32m~\\Desktop\\Code Base\\Scripts\\lib\\site-packages\\pandas\\core\\indexing.py\u001B[0m in \u001B[0;36m_get_listlike_indexer\u001B[1;34m(self, key, axis)\u001B[0m\n\u001B[0;32m   1312\u001B[0m             \u001B[0mkeyarr\u001B[0m\u001B[1;33m,\u001B[0m \u001B[0mindexer\u001B[0m\u001B[1;33m,\u001B[0m \u001B[0mnew_indexer\u001B[0m \u001B[1;33m=\u001B[0m \u001B[0max\u001B[0m\u001B[1;33m.\u001B[0m\u001B[0m_reindex_non_unique\u001B[0m\u001B[1;33m(\u001B[0m\u001B[0mkeyarr\u001B[0m\u001B[1;33m)\u001B[0m\u001B[1;33m\u001B[0m\u001B[1;33m\u001B[0m\u001B[0m\n\u001B[0;32m   1313\u001B[0m \u001B[1;33m\u001B[0m\u001B[0m\n\u001B[1;32m-> 1314\u001B[1;33m         \u001B[0mself\u001B[0m\u001B[1;33m.\u001B[0m\u001B[0m_validate_read_indexer\u001B[0m\u001B[1;33m(\u001B[0m\u001B[0mkeyarr\u001B[0m\u001B[1;33m,\u001B[0m \u001B[0mindexer\u001B[0m\u001B[1;33m,\u001B[0m \u001B[0maxis\u001B[0m\u001B[1;33m)\u001B[0m\u001B[1;33m\u001B[0m\u001B[1;33m\u001B[0m\u001B[0m\n\u001B[0m\u001B[0;32m   1315\u001B[0m \u001B[1;33m\u001B[0m\u001B[0m\n\u001B[0;32m   1316\u001B[0m         if needs_i8_conversion(ax.dtype) or isinstance(\n",
      "\u001B[1;32m~\\Desktop\\Code Base\\Scripts\\lib\\site-packages\\pandas\\core\\indexing.py\u001B[0m in \u001B[0;36m_validate_read_indexer\u001B[1;34m(self, key, indexer, axis)\u001B[0m\n\u001B[0;32m   1372\u001B[0m                 \u001B[1;32mif\u001B[0m \u001B[0muse_interval_msg\u001B[0m\u001B[1;33m:\u001B[0m\u001B[1;33m\u001B[0m\u001B[1;33m\u001B[0m\u001B[0m\n\u001B[0;32m   1373\u001B[0m                     \u001B[0mkey\u001B[0m \u001B[1;33m=\u001B[0m \u001B[0mlist\u001B[0m\u001B[1;33m(\u001B[0m\u001B[0mkey\u001B[0m\u001B[1;33m)\u001B[0m\u001B[1;33m\u001B[0m\u001B[1;33m\u001B[0m\u001B[0m\n\u001B[1;32m-> 1374\u001B[1;33m                 \u001B[1;32mraise\u001B[0m \u001B[0mKeyError\u001B[0m\u001B[1;33m(\u001B[0m\u001B[1;34mf\"None of [{key}] are in the [{axis_name}]\"\u001B[0m\u001B[1;33m)\u001B[0m\u001B[1;33m\u001B[0m\u001B[1;33m\u001B[0m\u001B[0m\n\u001B[0m\u001B[0;32m   1375\u001B[0m \u001B[1;33m\u001B[0m\u001B[0m\n\u001B[0;32m   1376\u001B[0m             \u001B[0mnot_found\u001B[0m \u001B[1;33m=\u001B[0m \u001B[0mlist\u001B[0m\u001B[1;33m(\u001B[0m\u001B[0mensure_index\u001B[0m\u001B[1;33m(\u001B[0m\u001B[0mkey\u001B[0m\u001B[1;33m)\u001B[0m\u001B[1;33m[\u001B[0m\u001B[0mmissing_mask\u001B[0m\u001B[1;33m.\u001B[0m\u001B[0mnonzero\u001B[0m\u001B[1;33m(\u001B[0m\u001B[1;33m)\u001B[0m\u001B[1;33m[\u001B[0m\u001B[1;36m0\u001B[0m\u001B[1;33m]\u001B[0m\u001B[1;33m]\u001B[0m\u001B[1;33m.\u001B[0m\u001B[0munique\u001B[0m\u001B[1;33m(\u001B[0m\u001B[1;33m)\u001B[0m\u001B[1;33m)\u001B[0m\u001B[1;33m\u001B[0m\u001B[1;33m\u001B[0m\u001B[0m\n",
      "\u001B[1;31mKeyError\u001B[0m: \"None of [Index(['Administration', 'Legal', 'Legal', 'Legal', 'CLO', 'Mezzanine', 'CESL',\\n       'Finance', 'Finance', 'Finance',\\n       ...\\n       'BDC Advisors', 'BDC Advisors', 'BDC Advisors', 'BDC Advisors',\\n       'BDC Advisors', 'BDC Advisors', 'BDC Advisors', 'BDC Advisors',\\n       'BDC Advisors', 'BDC Advisors'],\\n      dtype='object', length=8982)] are in the [columns]\""
     ]
    }
   ],
   "source": [
    "df.plot(df.iloc[:,4], 'USD Net Change')"
   ],
   "metadata": {
    "collapsed": false,
    "ExecuteTime": {
     "end_time": "2024-07-30T23:52:26.360630800Z",
     "start_time": "2024-07-30T23:52:25.956093100Z"
    }
   }
  },
  {
   "cell_type": "code",
   "execution_count": null,
   "outputs": [],
   "source": [
    "pivot2.plot.line()"
   ],
   "metadata": {
    "collapsed": false,
    "ExecuteTime": {
     "start_time": "2024-07-30T23:52:25.972066700Z"
    }
   }
  },
  {
   "cell_type": "code",
   "execution_count": null,
   "outputs": [],
   "source": [],
   "metadata": {
    "collapsed": false,
    "ExecuteTime": {
     "start_time": "2024-07-30T23:52:25.973067100Z"
    }
   }
  },
  {
   "cell_type": "code",
   "execution_count": null,
   "outputs": [],
   "source": [],
   "metadata": {
    "collapsed": false,
    "ExecuteTime": {
     "start_time": "2024-07-30T23:52:25.974067300Z"
    }
   }
  }
 ],
 "metadata": {
  "kernelspec": {
   "display_name": "Python 3",
   "language": "python",
   "name": "python3"
  },
  "language_info": {
   "codemirror_mode": {
    "name": "ipython",
    "version": 2
   },
   "file_extension": ".py",
   "mimetype": "text/x-python",
   "name": "python",
   "nbconvert_exporter": "python",
   "pygments_lexer": "ipython2",
   "version": "2.7.6"
  }
 },
 "nbformat": 4,
 "nbformat_minor": 0
}
